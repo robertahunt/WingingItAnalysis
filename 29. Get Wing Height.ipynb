{
 "cells": [
  {
   "cell_type": "code",
   "execution_count": null,
   "id": "a7779ac9-f011-4191-8c40-48e195a0458a",
   "metadata": {},
   "outputs": [],
   "source": [
    "\"\"\"\n",
    "This notebook extracts the Wing Height from the live bee images by registering and rotating them. \n",
    "\"\"\""
   ]
  },
  {
   "cell_type": "code",
   "execution_count": 18,
   "id": "4b6f55f6-8fc9-4f37-8a98-20cdf10078cd",
   "metadata": {},
   "outputs": [],
   "source": [
    "import os\n",
    "import cv2\n",
    "import numpy as np\n",
    "import pandas as pd\n",
    "import matplotlib.pyplot as plt\n",
    "\n",
    "from tqdm import tqdm\n",
    "from glob import glob\n",
    "from scipy import ndimage\n",
    "from utils import place_in_img\n",
    "\n",
    "from array2gif import write_gif"
   ]
  },
  {
   "cell_type": "code",
   "execution_count": 20,
   "id": "e6051dc1-d183-4d22-b1fa-887a2503fd3e",
   "metadata": {},
   "outputs": [
    {
     "name": "stderr",
     "output_type": "stream",
     "text": [
      "100%|███████████████████████████████████████████████████████████████████████████████████████████████████████████████████████████████████████████████| 1182/1182 [04:16<00:00,  4.61it/s]\n"
     ]
    }
   ],
   "source": [
    "DEBUG = False\n",
    "\n",
    "mask_fps = glob('../2_live_bees/9_UNet_predictions_resized_final/*')\n",
    "\n",
    "out = []\n",
    "for mask_fp in tqdm(mask_fps):\n",
    "    fn = mask_fp.split('/')[-1]\n",
    "    if DEBUG:\n",
    "        fn = '2024_06_06_h05bee16.png'\n",
    "\n",
    "    seg_fp = '../2_live_bees/9_UNet_predictions_resized_final_overlaid/' + fn\n",
    "    \n",
    "    mask = cv2.imread(mask_fp, cv2.IMREAD_GRAYSCALE)\n",
    "    seg = cv2.imread(seg_fp)\n",
    "    \n",
    "    blank_image = np.ones((500,1000,3)).astype('uint8')*255\n",
    "    \n",
    "    if DEBUG:\n",
    "        plt.imshow(blank_image)\n",
    "        plt.figure()\n",
    "        plt.imshow(mask)\n",
    "    \n",
    "    ay, ax = np.array(np.where(mask == 4)).mean(axis=1)\n",
    "    by, bx = np.array(np.where(mask == 5)).mean(axis=1)\n",
    "    ab_dist = np.sqrt((ax-bx)**2 + (ay-by)**2)\n",
    "    ab_angle = np.arctan((by-ay)/(bx-ax))*180/np.pi\n",
    "    \n",
    "    scale = 100 / ab_dist\n",
    "    rotation_angle = ab_angle\n",
    "    \n",
    "    new_shape = (np.array(mask.shape[:2])*scale).astype('int')\n",
    "    new_mask = cv2.resize(mask, new_shape[::-1])\n",
    "    new_seg = cv2.resize(seg, new_shape[::-1])\n",
    "    \n",
    "    new_mask = ndimage.rotate(new_mask, rotation_angle, mode='constant', cval=0)\n",
    "    new_seg = ndimage.rotate(new_seg, rotation_angle, mode='constant', cval=255)\n",
    "\n",
    "    if DEBUG:\n",
    "        plt.imshow(new_seg)\n",
    "    \n",
    "    nay, nax = np.array(np.where(new_mask == 4)).mean(axis=1)\n",
    "    nay, nax = int(nay), int(nax)\n",
    "    ncy, ncx = new_mask.shape[0]//2, new_mask.shape[1]//2\n",
    "    blank_image = place_in_img(blank_image, new_seg, (150+ncy-nay,500+ncx-nax))\n",
    "    if DEBUG:\n",
    "        plt.imshow(blank_image)\n",
    "\n",
    "    blank_image = cv2.cvtColor(blank_image, cv2.COLOR_BGR2RGB)\n",
    "\n",
    "    y_min = np.where(blank_image < 250)[0].min()\n",
    "    y_max = np.where(blank_image < 250)[0].max()\n",
    "    height = y_max - y_min\n",
    "\n",
    "    out += [[fn, height]]\n"
   ]
  },
  {
   "cell_type": "code",
   "execution_count": 21,
   "id": "c291e1f9-23d6-4641-a397-64931b8473e4",
   "metadata": {},
   "outputs": [],
   "source": [
    "pd.DataFrame(out, columns=['Filename','Height (pixels)']).to_csv('live_bees_height_pixels.csv')"
   ]
  },
  {
   "cell_type": "code",
   "execution_count": null,
   "id": "ea23e16a-9a88-48f8-b8e1-d14092482f32",
   "metadata": {},
   "outputs": [],
   "source": []
  }
 ],
 "metadata": {
  "kernelspec": {
   "display_name": "Python 3 (ipykernel)",
   "language": "python",
   "name": "python3"
  },
  "language_info": {
   "codemirror_mode": {
    "name": "ipython",
    "version": 3
   },
   "file_extension": ".py",
   "mimetype": "text/x-python",
   "name": "python",
   "nbconvert_exporter": "python",
   "pygments_lexer": "ipython3",
   "version": "3.12.5"
  }
 },
 "nbformat": 4,
 "nbformat_minor": 5
}
