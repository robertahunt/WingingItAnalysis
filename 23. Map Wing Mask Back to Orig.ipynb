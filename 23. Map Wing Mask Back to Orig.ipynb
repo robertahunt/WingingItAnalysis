{
 "cells": [
  {
   "cell_type": "code",
   "execution_count": null,
   "id": "7ebf810e-3b90-4750-ad27-9ffbcbc4e8a3",
   "metadata": {},
   "outputs": [],
   "source": [
    "\"\"\"\n",
    "This notebook \n",
    "\"\"\""
   ]
  },
  {
   "cell_type": "code",
   "execution_count": 3,
   "id": "c28b5481-1cc1-4855-b226-0bde57762dae",
   "metadata": {},
   "outputs": [],
   "source": [
    "import os\n",
    "import cv2\n",
    "import json\n",
    "import numpy as np\n",
    "import matplotlib.pyplot as plt\n",
    "\n",
    "from tqdm import tqdm\n",
    "from glob import glob\n",
    "from scipy import ndimage\n",
    "\n",
    "from utils import place_in_img"
   ]
  },
  {
   "cell_type": "code",
   "execution_count": null,
   "id": "b47e5095-1194-43b0-836b-053f05f5b57d",
   "metadata": {},
   "outputs": [
    {
     "name": "stderr",
     "output_type": "stream",
     "text": [
      " 57%|██████████████████████████████████████████████████████████████████████████████████████████████                                                                        | 529/934 [59:31<45:54,  6.80s/it]"
     ]
    }
   ],
   "source": [
    "DEBUG = False\n",
    "\n",
    "mask_metadata_fps = sorted(glob('../2_live_bees/3_card_mask_matches_metadata/*'))\n",
    "\n",
    "for mask_metadata_fp in tqdm(mask_metadata_fps[259:]):\n",
    "    fn = mask_metadata_fp.split('/')[-1]\n",
    "    out_fp = '../2_live_bees/2_card_masks_in_orig_coords/'+fn.replace('.json','.png')\n",
    "    #if os.path.exists(out_fp):\n",
    "    #    continue\n",
    "    \n",
    "    card_metadata_fp = '../2_live_bees/1_metadata/' + fn\n",
    "    with open(mask_metadata_fp, 'r') as f:\n",
    "        metadata = json.load(f)\n",
    "    with open(card_metadata_fp, 'r') as f:\n",
    "        card_metadata = json.load(f)\n",
    "    metadata.update(card_metadata)\n",
    "    \n",
    "    card_angle = metadata['card_angle']\n",
    "    card_rotated_x_start = metadata['card_rotated_x_start']\n",
    "    card_rotated_x_end = metadata['card_rotated_x_end']        \n",
    "    \n",
    "    date = '_'.join(fn.split('_')[:3])\n",
    "    bee_id = fn.split('_')[-1].split('.')[0].split('-')[0]\n",
    "    \n",
    "    img_fp = glob(f'../WWBEE24_images/*/*/{date}/{bee_id}*')[0]\n",
    "    mask_fp = '../2_live_bees/2_final_masks/' + fn.replace('.json','.png')\n",
    "    \n",
    "    img = cv2.imread(img_fp)\n",
    "    mask = cv2.imread(mask_fp, cv2.IMREAD_GRAYSCALE)\n",
    "    \n",
    "    rotated = ndimage.rotate(img, card_angle, mode='constant', cval=255)\n",
    "    \n",
    "    full_mask = np.zeros(rotated.shape[:2]).astype('uint8')\n",
    "    full_mask[:,card_rotated_x_start:card_rotated_x_end] = mask\n",
    "    mask_start_x = np.where(full_mask > 0.5)[1].min()\n",
    "    \n",
    "    if DEBUG:\n",
    "        plt.figure()\n",
    "        plt.imshow(full_mask)\n",
    "    \n",
    "    if DEBUG:\n",
    "        plt.figure()\n",
    "        plt.imshow(full_mask[:,mask_start_x:])\n",
    "        \n",
    "    combined_full_mask = np.zeros(rotated.shape[:2]).astype('uint8')\n",
    "    combined_full_mask[full_mask > 0.5] = 255\n",
    "    \n",
    "    sy, sx = np.array(np.where(combined_full_mask > 0.5)).min(axis=1)\n",
    "    ey, ex = np.array(np.where(combined_full_mask > 0.5)).max(axis=1)\n",
    "    \n",
    "    cv2.imwrite(out_fp, combined_full_mask)\n",
    "    \n",
    "    if DEBUG:\n",
    "        plt.figure()\n",
    "        plt.imshow(combined_full_mask)\n",
    "    \n",
    "    if DEBUG:\n",
    "        plt.figure()\n",
    "        plt.imshow(seg)\n",
    "    \n",
    "    if DEBUG:\n",
    "        plt.figure()\n",
    "        plt.imshow(full_seg)\n",
    "    \n",
    "    if DEBUG:\n",
    "        break"
   ]
  },
  {
   "cell_type": "code",
   "execution_count": 14,
   "id": "9ab1836a-5568-4733-a651-39afd37bd3ff",
   "metadata": {},
   "outputs": [
    {
     "data": {
      "text/plain": [
       "['../WWBEE24_images/Round01/Hive03/2024_06_20/h03b44_deformedWing.JPG']"
      ]
     },
     "execution_count": 14,
     "metadata": {},
     "output_type": "execute_result"
    }
   ],
   "source": [
    "glob(f'../WWBEE24_images/*/*/{date}/{bee_id}*')"
   ]
  },
  {
   "cell_type": "code",
   "execution_count": 11,
   "id": "fee32d9b-ad28-4bae-b514-3f8f13c90bb2",
   "metadata": {},
   "outputs": [
    {
     "data": {
      "text/plain": [
       "('2024_06_20', 'h03b44-deformedWing')"
      ]
     },
     "execution_count": 11,
     "metadata": {},
     "output_type": "execute_result"
    }
   ],
   "source": [
    "date, bee_id"
   ]
  },
  {
   "cell_type": "code",
   "execution_count": 13,
   "id": "ec949bdf-0ea6-46f2-9909-c323e888f439",
   "metadata": {},
   "outputs": [],
   "source": [
    "bee_id = fn.split('_')[-1].split('.')[0].split('-')[0]"
   ]
  },
  {
   "cell_type": "code",
   "execution_count": null,
   "id": "6f720ec0-2893-4151-8d31-a7d6425482a6",
   "metadata": {},
   "outputs": [],
   "source": []
  }
 ],
 "metadata": {
  "kernelspec": {
   "display_name": "Python 3 (ipykernel)",
   "language": "python",
   "name": "python3"
  },
  "language_info": {
   "codemirror_mode": {
    "name": "ipython",
    "version": 3
   },
   "file_extension": ".py",
   "mimetype": "text/x-python",
   "name": "python",
   "nbconvert_exporter": "python",
   "pygments_lexer": "ipython3",
   "version": "3.12.5"
  }
 },
 "nbformat": 4,
 "nbformat_minor": 5
}
