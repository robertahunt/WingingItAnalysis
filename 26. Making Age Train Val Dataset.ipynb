{
 "cells": [
  {
   "cell_type": "code",
   "execution_count": 2,
   "id": "49782217-9ae5-42f4-bc1e-e1a5f2aa67ee",
   "metadata": {},
   "outputs": [],
   "source": [
    "import os\n",
    "import cv2\n",
    "import json\n",
    "import shutil\n",
    "import numpy as np\n",
    "import pandas as pd\n",
    "import matplotlib.pyplot as plt\n",
    "\n",
    "\n",
    "from tqdm import tqdm\n",
    "from glob import glob\n",
    "from sklearn.model_selection import train_test_split"
   ]
  },
  {
   "cell_type": "code",
   "execution_count": 4,
   "id": "89ca52ee-ec3c-40c4-8f28-70c51f4f2fb0",
   "metadata": {},
   "outputs": [],
   "source": [
    "ages = pd.read_csv('../age_pred/wings/ages.csv')\n",
    "np.random.seed(42)\n",
    "train, val = train_test_split(ages, train_size=0.75)\n",
    "for df, _set in zip((train, val), ('train','val')):\n",
    "    for name, row in df.iterrows():\n",
    "        fn = row['Filename']\n",
    "        fp = '../2_live_bees/6_cropped_and_flipped/' + fn\n",
    "        new_folder = f'../age_pred/wings/{_set}/'\n",
    "        if not os.path.exists(new_folder):\n",
    "            os.makedirs(new_folder)\n",
    "        new_fp = new_folder + fn\n",
    "\n",
    "        shutil.copyfile(fp, new_fp)"
   ]
  },
  {
   "cell_type": "code",
   "execution_count": null,
   "id": "91b57e4a-4c9e-4511-9b24-a08a58d587c6",
   "metadata": {},
   "outputs": [],
   "source": []
  }
 ],
 "metadata": {
  "kernelspec": {
   "display_name": "Python 3 (ipykernel)",
   "language": "python",
   "name": "python3"
  },
  "language_info": {
   "codemirror_mode": {
    "name": "ipython",
    "version": 3
   },
   "file_extension": ".py",
   "mimetype": "text/x-python",
   "name": "python",
   "nbconvert_exporter": "python",
   "pygments_lexer": "ipython3",
   "version": "3.12.5"
  }
 },
 "nbformat": 4,
 "nbformat_minor": 5
}
