{
 "cells": [
  {
   "cell_type": "code",
   "execution_count": 1,
   "id": "1a7c08d1-1c9c-4088-b463-90c2f717efb2",
   "metadata": {},
   "outputs": [
    {
     "data": {
      "text/plain": [
       "'\\nThis notebook is used to interactively view images in a folder to check them for issues\\n'"
      ]
     },
     "execution_count": 1,
     "metadata": {},
     "output_type": "execute_result"
    }
   ],
   "source": [
    "\"\"\"\n",
    "This notebook is used to interactively view images in a folder to check them for issues\n",
    "\"\"\""
   ]
  },
  {
   "cell_type": "code",
   "execution_count": 1,
   "id": "95232de1-c077-40ef-8d88-42b9f961af1d",
   "metadata": {},
   "outputs": [],
   "source": [
    "import os\n",
    "import cv2\n",
    "import json\n",
    "import numpy as np\n",
    "import pandas as pd\n",
    "import matplotlib.pyplot as plt\n",
    "\n",
    "from glob import glob\n",
    "from tqdm import tqdm\n",
    "from copy import deepcopy\n",
    "\n",
    "from scipy import ndimage\n",
    "from skimage.measure import label\n",
    "\n",
    "from numpy import linalg\n",
    "from scipy.sparse.linalg import eigs\n",
    "\n",
    "from skimage.exposure import match_histograms\n",
    "\n",
    "from utils import is_wing_facing_up, segment_contour"
   ]
  },
  {
   "cell_type": "code",
   "execution_count": 5,
   "id": "a7949d2b-9608-4495-8830-06a0342f3945",
   "metadata": {},
   "outputs": [],
   "source": [
    "seen = []\n",
    "problem_wings = []\n",
    "FOLDER = '../2_live_bees/6_cropped_and_flipped/'\n",
    "subset = []\n",
    "\n"
   ]
  },
  {
   "cell_type": "code",
   "execution_count": 7,
   "id": "03d53904-b516-4f7f-8b0b-c6313d87cb96",
   "metadata": {},
   "outputs": [
    {
     "data": {
      "application/vnd.jupyter.widget-view+json": {
       "model_id": "e063a034973b40899d8720197aa38818",
       "version_major": 2,
       "version_minor": 0
      },
      "text/plain": [
       "Button(description='Previous!', style=ButtonStyle())"
      ]
     },
     "metadata": {},
     "output_type": "display_data"
    },
    {
     "data": {
      "application/vnd.jupyter.widget-view+json": {
       "model_id": "2151e92755ec435db99092b2cc71b14d",
       "version_major": 2,
       "version_minor": 0
      },
      "text/plain": [
       "Button(description='Next!', style=ButtonStyle())"
      ]
     },
     "metadata": {},
     "output_type": "display_data"
    },
    {
     "data": {
      "application/vnd.jupyter.widget-view+json": {
       "model_id": "e8af1f92c16a4444ae7c650634d62a9b",
       "version_major": 2,
       "version_minor": 0
      },
      "text/plain": [
       "Button(description='Add to list', style=ButtonStyle())"
      ]
     },
     "metadata": {},
     "output_type": "display_data"
    },
    {
     "data": {
      "application/vnd.jupyter.widget-view+json": {
       "model_id": "006de86a6d5a4307bdf58d53d3e9aa75",
       "version_major": 2,
       "version_minor": 0
      },
      "text/plain": [
       "Button(description='Remove from list', style=ButtonStyle())"
      ]
     },
     "metadata": {},
     "output_type": "display_data"
    },
    {
     "data": {
      "application/vnd.jupyter.widget-view+json": {
       "model_id": "e009c41af5ad4ed19247b92c742c10ce",
       "version_major": 2,
       "version_minor": 0
      },
      "text/plain": [
       "interactive(children=(Text(value='../2_live_bees/6_cropped_and_flipped/', description='folder'), Dropdown(desc…"
      ]
     },
     "metadata": {},
     "output_type": "display_data"
    },
    {
     "data": {
      "application/vnd.jupyter.widget-view+json": {
       "model_id": "aa14265506a04d15921836288e360619",
       "version_major": 2,
       "version_minor": 0
      },
      "text/plain": [
       "Output()"
      ]
     },
     "metadata": {},
     "output_type": "display_data"
    }
   ],
   "source": [
    "\n",
    "import matplotlib.pyplot as plt\n",
    "from ipywidgets import interact, widgets\n",
    "import numpy as np\n",
    "import os\n",
    "from PIL import Image, ImageFilter\n",
    "\n",
    "def imageEditor(folder, filename, blur, blurRadius): \n",
    "\t# Opens a image in RGB mode\n",
    "\tim = Image.open('{}/{}'.format(folder, filename))\n",
    "\n",
    "\tif(blur == True):\n",
    "\t\t# blur only if checkbox checked\n",
    "\t\tim = im.filter(ImageFilter.GaussianBlur(blurRadius))\n",
    "\t\t\n",
    "\t# show the image\n",
    "\tplt.figure(figsize=(9,9))\n",
    "\tplt.imshow(im)\n",
    "\tplt.axis('off')\n",
    "\tplt.title(filename)\n",
    "\tprint(filename)\n",
    "\tplt.show()\n",
    "\n",
    "# creating the widgets\n",
    "folderWidget = widgets.Text(FOLDER)\n",
    "fns = [x for x in sorted(os.listdir(folderWidget.value)) if x not in seen]\n",
    "if len(subset):\n",
    "    fns = [x for x in fns if x in subset]\n",
    "fileWidget = widgets.Dropdown(options = fns)\n",
    "# update function to update fileslist when folder name changes\n",
    "def updateFilesList(*args):\n",
    "\tfilesList = [file for file in os.listdir(folderWidget.value) if file.endswith(('.png', '.jpg', '.jpeg','.gif'))]\n",
    "\tfileWidget.options = filesList\n",
    "\tfileWidget.value = filesList[0]\n",
    "\n",
    "# observer folder widget and call updateFilesList whenever its value changes\n",
    "folderWidget.observe(updateFilesList, 'value')\n",
    "\n",
    "\n",
    "button_prev = widgets.Button(description=\"Previous!\")\n",
    "button_next = widgets.Button(description=\"Next!\")\n",
    "button_add = widgets.Button(description=\"Add to list\")\n",
    "button_remove = widgets.Button(description=\"Remove from list\")\n",
    "\n",
    "display(button_prev)\n",
    "display(button_next)\n",
    "display(button_add)\n",
    "display(button_remove)\n",
    "interact(\n",
    "\timageEditor,\n",
    "\tfilename = fileWidget,\n",
    "\tfolder = folderWidget,\n",
    "\tblur = widgets.Checkbox(value = False),\n",
    "\tblurRadius = widgets.FloatSlider(min = 0, max = 5, description = \"Blur Radius\")\n",
    ")\n",
    "output = widgets.Output()\n",
    "display(output)\n",
    "\n",
    "def on_button_prev_clicked(a):\n",
    "    with output:\n",
    "        cur = fileWidget.get_state()['index']\n",
    "        n_fps = len(fileWidget.get_state()['_options_labels'])\n",
    "        if cur > 0:\n",
    "            fileWidget.set_state({'index':cur - 1})\n",
    "            print(f\"{cur} / {n_fps}\", end='\\r')\n",
    "\n",
    "def on_button_next_clicked(b):\n",
    "    global seen\n",
    "    with output:\n",
    "        fns = fileWidget.get_state()['_options_labels']\n",
    "        cur = fileWidget.get_state()['index']\n",
    "        fn = fns[cur]\n",
    "        n_fps = len(fileWidget.get_state()['_options_labels'])\n",
    "        fileWidget.set_state({'index':cur + 1})\n",
    "        print(f\"{cur} / {n_fps}                             \", end='\\r')\n",
    "\n",
    "    if fn not in seen:\n",
    "        seen += [fn]\n",
    "    \n",
    "\n",
    "def on_button_add_clicked(c):\n",
    "    global problem_wings\n",
    "    with output:\n",
    "        fns = fileWidget.get_state()['_options_labels']\n",
    "        cur = fileWidget.get_state()['index']\n",
    "        fn = fns[cur]\n",
    "        print(f\"Added {fn}\", end='\\r')\n",
    "\n",
    "    if fn not in problem_wings:\n",
    "        problem_wings += [fn]\n",
    "\n",
    "def on_button_remove_clicked(c):\n",
    "    global problem_wings\n",
    "    with output:\n",
    "        fns = fileWidget.get_state()['_options_labels']\n",
    "        cur = fileWidget.get_state()['index']\n",
    "        fn = fns[cur]\n",
    "        print(f\"Removed {fn}\", end='\\r')\n",
    "    \n",
    "    problem_wings.remove(fn)\n",
    "\n",
    "button_prev.on_click(on_button_prev_clicked)\n",
    "button_next.on_click(on_button_next_clicked)\n",
    "button_add.on_click(on_button_add_clicked)\n",
    "button_remove.on_click(on_button_remove_clicked)"
   ]
  },
  {
   "cell_type": "code",
   "execution_count": 10,
   "id": "57a8d2b7-2273-481e-b36e-fee4c4fb18d1",
   "metadata": {},
   "outputs": [],
   "source": [
    "df = []\n",
    "for fn in seen:\n",
    "    if fn in problem_wings:\n",
    "        df += [[fn, True]]\n",
    "    else:\n",
    "        df += [[fn, False]]\n",
    "\n",
    "df = pd.DataFrame(df, columns=['Filename','Damaged?'])\n",
    "#df.to_csv('live_bees_damaged.csv')"
   ]
  },
  {
   "cell_type": "code",
   "execution_count": 4,
   "id": "07b5246a-9c28-45fc-bb24-0da8a4da9939",
   "metadata": {},
   "outputs": [
    {
     "data": {
      "text/plain": [
       "{'Hive01_Sheet_02_slideww43_left.png',\n",
       " 'Hive01_Sheet_02_slideww43_right.png',\n",
       " 'Hive01_Sheet_03_slideww21-x_left.png',\n",
       " 'Hive02_Sheet_01_slide23_left.png',\n",
       " 'Hive02_Sheet_01_slide45_right.png',\n",
       " 'Hive02_Sheet_02_slide103_left.png',\n",
       " 'Hive02_Sheet_02_slide105_right.png',\n",
       " 'Hive02_Sheet_03_slideww47_left.png',\n",
       " 'Hive02_Sheet_03_slideww70_left.png',\n",
       " 'Hive03_Sheet_01_slide115_left.png',\n",
       " 'Hive03_Sheet_01_slideww45_right.png',\n",
       " 'Hive04_Sheet_01_slide38_right.png',\n",
       " 'Hive04_Sheet_01_slideww28_left.png',\n",
       " 'Hive04_Sheet_02_slide38_right.png',\n",
       " 'Hive04_Sheet_02_slideww28_left.png',\n",
       " 'Hive05_Sheet_01_slideww82_left.png',\n",
       " 'Hive06_Sheet_02_slide62_right.png',\n",
       " 'Hive06_Sheet_03_slide115_left.png',\n",
       " 'Hive06_Sheet_03_slide80_left.png',\n",
       " 'Hive06_Sheet_04_slide125_right.png',\n",
       " 'Hive07_Sheet_01_slide33_left.png',\n",
       " 'Hive07_Sheet_04_slide120_left.png',\n",
       " 'Hive07_Sheet_04_slide122_left.png',\n",
       " 'Hive07_Sheet_04_slide129_left.png',\n",
       " 'Hive07_Sheet_05_slide160_left.png',\n",
       " 'Hive07_Sheet_05_slide162_left.png',\n",
       " 'Hive07_Sheet_05_slide71_left.png',\n",
       " 'Hive08_Sheet_01_slide20_left.png',\n",
       " 'Hive08_Sheet_01_slide22_left.png',\n",
       " 'Hive08_Sheet_02_slide72_left.png',\n",
       " 'Hive08_Sheet_03_slide124_left.png',\n",
       " 'Hive08_Sheet_04_slide138_left.png',\n",
       " 'Hive08_Sheet_04_slide148_left.png',\n",
       " 'Hive08_Sheet_05_slide74_left.png',\n",
       " 'Hive08_Sheet_06_slide133_left.png',\n",
       " 'Hive08_Sheet_06_slide77_right.png',\n",
       " 'Hive09_Sheet_03_slide104_right.png',\n",
       " 'Hive09_Sheet_03_slide78_right.png',\n",
       " 'Hive09_Sheet_03_slide87_left.png',\n",
       " 'Hive09_Sheet_03_slide87_right.png',\n",
       " 'Hive09_Sheet_03_slide95_left.png',\n",
       " 'Hive09_Sheet_05_slide161_right.png',\n",
       " 'Hive10_Sheet_04_slide124_left.png',\n",
       " 'Hive10_Sheet_05_slide146_left.png',\n",
       " 'Hive12_Sheet_01_slide14_left.png',\n",
       " 'Hive12_Sheet_02_slideww28_right.png',\n",
       " 'Hive13_Sheet_02_slideww24_left.png',\n",
       " 'Hive13_Sheet_02_slideww32_left.png',\n",
       " 'Hive13_Sheet_02_slideww32_right.png',\n",
       " 'Hive17_Sheet_01_slide32_left.png',\n",
       " 'Hive17_Sheet_01_slide3_left.png',\n",
       " 'Hive18_Sheet_02_slide32_right.png',\n",
       " 'Hive19_Sheet_02_slide48_right.png',\n",
       " 'Hive19_Sheet_02_slide55_right.png',\n",
       " 'Hive19_Sheet_03_slide43_left.png',\n",
       " 'Hive19_Sheet_03_slide43_right.png',\n",
       " 'Hive19_Sheet_03_slide64_left.png',\n",
       " 'Hive19_Sheet_03_slide70_right.png',\n",
       " 'Hive19_Sheet_03_slide73_right.png',\n",
       " 'Hive20_Sheet_01_slide28_left.png',\n",
       " 'Hive20_Sheet_02_slide47_right.png',\n",
       " 'Hive20_Sheet_02_slide52_right.png',\n",
       " 'Hive20_Sheet_02_slide59_right.png',\n",
       " 'Hive20_Sheet_03_slide78_left.png',\n",
       " 'Hive21_Sheet_01_slide12_right.png',\n",
       " 'Hive21_Sheet_01_slideww04_left.png',\n",
       " 'Hive22_Sheet_01_slide32_left.png',\n",
       " 'Hive22_Sheet_01_slide45_right.png',\n",
       " 'Hive22_Sheet_01_slideww32_left.png',\n",
       " 'Hive22_Sheet_01_slideww32_right.png',\n",
       " 'Hive23_Sheet_01_slide23_right.png',\n",
       " 'Hive23_Sheet_01_slideww10_left.png',\n",
       " 'Hive23_Sheet_01_slideww10_right.png',\n",
       " 'Hive24_Sheet_01_slide25_right.png',\n",
       " 'Hive24_Sheet_01_slide27_left.png',\n",
       " 'Hive24_Sheet_01_slide3_right.png',\n",
       " 'Hive24_Sheet_01_slideww18_left.png',\n",
       " 'Hive24_Sheet_01_slideww18_right.png',\n",
       " 'Hive25_Sheet_01_slide30_left.png',\n",
       " 'Hive25_Sheet_01_slide51_right.png',\n",
       " 'Hive25_Sheet_01_slide60_right.png',\n",
       " 'Hive25_Sheet_01_slideww27_left.png',\n",
       " 'Hive26_Sheet_02_slide31_left.png',\n",
       " 'Hive26_Sheet_02_slide44_left.png',\n",
       " 'Hive26_Sheet_03_slide93_left.png',\n",
       " 'Hive27_Sheet_01_slide21_left.png',\n",
       " 'Hive27_Sheet_02_slide84_left.png',\n",
       " 'Hive27_Sheet_02_slide84_right.png',\n",
       " 'Hive28_Sheet_03_slide65_left.png',\n",
       " 'Hive28_Sheet_03_slide65_right.png',\n",
       " 'Hive28_Sheet_03_slide72_right.png',\n",
       " 'Hive28_Sheet_03_slide75_left.png',\n",
       " 'Hive29_Sheet_02_slide48_right.png',\n",
       " 'Hive29_Sheet_02_slide52_left.png',\n",
       " 'Hive29_Sheet_02_slide52_right.png',\n",
       " 'Hive30_Sheet_02_slide58_left.png',\n",
       " 'Hive30_Sheet_02_slide70_left.png',\n",
       " 'Hive30_Sheet_02_slide70_right.png',\n",
       " 'Hive31_Sheet_01_slide51_left.png',\n",
       " 'Hive31_Sheet_01_slide51_right.png',\n",
       " 'Hive32_Sheet_01_slide22_left.png',\n",
       " 'Hive32_Sheet_01_slide35_left.png',\n",
       " 'Hive32_Sheet_01_slide44_left.png',\n",
       " 'Hive32_Sheet_01_slide44_right.png',\n",
       " 'Hive32_Sheet_01_slide57_right.png',\n",
       " 'Hive32_Sheet_01_slide74_right.png',\n",
       " 'Hive32_Sheet_01_slideww11_right.png',\n",
       " 'Hive32_Sheet_01_slideww13_left.png',\n",
       " 'Hive32_Sheet_01_slideww13_right.png',\n",
       " 'Hive32_Sheet_01_slideww18_left.png',\n",
       " 'Hive32_Sheet_01_slideww18_right.png',\n",
       " 'Hive32_Sheet_01_slideww1_left.png',\n",
       " 'Hive32_Sheet_01_slideww26_right.png',\n",
       " 'Hive32_Sheet_01_slideww44_left.png',\n",
       " 'Hive33_Sheet_01_slideww3_left.png',\n",
       " 'Hive33_Sheet_01_slideww49_left.png',\n",
       " 'Hive33_Sheet_01_slideww49_right.png',\n",
       " 'Hive34_Sheet_01_slide18_right.png',\n",
       " 'Hive34_Sheet_01_slide27_left.png',\n",
       " 'Hive34_Sheet_01_slide27_right.png',\n",
       " 'Hive34_Sheet_01_slideww53_left.png',\n",
       " 'Hive34_Sheet_01_slideww53_right.png',\n",
       " 'Hive36_Sheet_01_slide32_right.png',\n",
       " 'Hive36_Sheet_02_slide62_left.png',\n",
       " 'Hive36_Sheet_02_slide67_left.png',\n",
       " 'Hive36_Sheet_03_slide75_left.png',\n",
       " 'Hive36_Sheet_04_slide140_left.png',\n",
       " 'Hive37_Sheet_01_slide2_left.png',\n",
       " 'Hive37_Sheet_02_slide40_right.png',\n",
       " 'Hive38_Sheet_01_slide16_right.png',\n",
       " 'Hive38_Sheet_01_slide24_left.png',\n",
       " 'Hive38_Sheet_01_slide35_right.png',\n",
       " 'Hive38_Sheet_02_slide75_right.png',\n",
       " 'Hive38_Sheet_02_slide78_right.png',\n",
       " 'Hive39_Sheet_02_slide51_right.png',\n",
       " 'Hive39_Sheet_02_slide59_left.png',\n",
       " 'Hive39_Sheet_03_slide92_right.png',\n",
       " 'Hive40_Sheet_02_slide67_left.png',\n",
       " 'Hive40_Sheet_03_slide84_left.png',\n",
       " 'Hive40_Sheet_04_slide121_left.png',\n",
       " 'Hive40_Sheet_04_slideww40_left.png',\n",
       " 'HiveC1_Sheet_01_slide24_right.png',\n",
       " 'HiveC1_Sheet_02_slide43_left.png',\n",
       " 'HiveC1_Sheet_02_slide45_left.png',\n",
       " 'HiveC1_Sheet_02_slide45_right.png',\n",
       " 'HiveC2_Sheet_01_slide16_left.png',\n",
       " 'HiveC2_Sheet_01_slide7_right.png',\n",
       " 'HiveC2_Sheet_02_slide25_left.png',\n",
       " 'HiveC2_Sheet_02_slide29_right.png',\n",
       " 'HiveC2_Sheet_02_slide43_right.png',\n",
       " 'HiveC2_Sheet_02_slide46_right.png',\n",
       " 'HiveC4_Sheet_01_slide27_left.png',\n",
       " 'HiveC4_Sheet_01_slide44_left.png',\n",
       " 'HiveC5_Sheet_02_slide43_right.png',\n",
       " 'HiveC5_Sheet_02_slide44_right.png'}"
      ]
     },
     "execution_count": 4,
     "metadata": {},
     "output_type": "execute_result"
    }
   ],
   "source": [
    "set(problem_wings)"
   ]
  },
  {
   "cell_type": "code",
   "execution_count": 6,
   "id": "9dbbd89e-e0ce-4da4-a1bc-73af61b1b796",
   "metadata": {
    "collapsed": true,
    "jupyter": {
     "outputs_hidden": true
    }
   },
   "outputs": [
    {
     "data": {
      "text/plain": [
       "{'2024_06_05_h01bee01.png',\n",
       " '2024_06_05_h01bee16.png',\n",
       " '2024_06_05_h01bee19.png',\n",
       " '2024_06_05_h01bee21.png',\n",
       " '2024_06_05_h01bee23.png',\n",
       " '2024_06_05_h01bee27.png',\n",
       " '2024_06_05_h01bee29.png',\n",
       " '2024_06_05_h01bee36.png',\n",
       " '2024_06_05_h01bee37.png'}"
      ]
     },
     "execution_count": 6,
     "metadata": {},
     "output_type": "execute_result"
    }
   ],
   "source": [
    "set(seen) - set(problem_wings)"
   ]
  },
  {
   "cell_type": "code",
   "execution_count": 5,
   "id": "cae48faa-b7cb-494d-bb43-b71425b3e528",
   "metadata": {},
   "outputs": [
    {
     "data": {
      "text/plain": [
       "['2024_06_05_h01bee01.png',\n",
       " '2024_06_05_h01bee19.png',\n",
       " '2024_06_05_h01bee21.png',\n",
       " '2024_06_05_h01bee27.png',\n",
       " '2024_06_05_h01bee32.png',\n",
       " '2024_06_05_h01bee36.png',\n",
       " '2024_06_05_h01bee45.png',\n",
       " '2024_06_06_h03bee39.png',\n",
       " '2024_06_06_h05bee07.png',\n",
       " '2024_06_06_h05bee11.png',\n",
       " '2024_06_06_h05bee32.png',\n",
       " '2024_06_07_h02bee03.png',\n",
       " '2024_06_07_h02bee34.png',\n",
       " '2024_06_07_h02bee38.png',\n",
       " '2024_06_10_h02b01.png',\n",
       " '2024_06_10_h02b32.png',\n",
       " '2024_06_10_h02b36.png',\n",
       " '2024_06_10_h02b42.png',\n",
       " '2024_06_11_h01b41.png',\n",
       " '2024_06_25_h03b10.png',\n",
       " '2024_06_27_h01b41.png',\n",
       " '2024_07_04_h24b02.png',\n",
       " '2024_07_10_h24b02.png',\n",
       " '2024_07_17_h31b48.png',\n",
       " '2024_07_18_h24b02.png',\n",
       " '2024_07_23_h21b28.png',\n",
       " '2024_07_25_h24b02.png',\n",
       " '2024_07_31_h31b74.png',\n",
       " '2024_08_05_h32b11.png']"
      ]
     },
     "execution_count": 5,
     "metadata": {},
     "output_type": "execute_result"
    }
   ],
   "source": [
    "problem_wings = ['2024_06_05_h01bee01.png',\n",
    " '2024_06_05_h01bee19.png',\n",
    " '2024_06_05_h01bee21.png',\n",
    " '2024_06_05_h01bee27.png',\n",
    " '2024_06_05_h01bee32.png',\n",
    " '2024_06_05_h01bee36.png',\n",
    " '2024_06_05_h01bee45.png',\n",
    " '2024_06_06_h03bee39.png',\n",
    " '2024_06_06_h05bee07.png',\n",
    " '2024_06_06_h05bee11.png',\n",
    " '2024_06_06_h05bee32.png',\n",
    " '2024_06_07_h02bee03.png',\n",
    " '2024_06_07_h02bee34.png',\n",
    " '2024_06_07_h02bee38.png',\n",
    " '2024_06_10_h02b01.png',\n",
    " '2024_06_10_h02b32.png',\n",
    " '2024_06_10_h02b36.png',\n",
    " '2024_06_10_h02b42.png',\n",
    " '2024_06_11_h01b41.png',\n",
    " '2024_06_25_h03b10.png',\n",
    " '2024_06_27_h01b41.png',\n",
    " '2024_07_04_h24b02.png',\n",
    " '2024_07_10_h24b02.png',\n",
    " '2024_07_17_h31b48.png',\n",
    " '2024_07_18_h24b02.png',\n",
    " '2024_07_23_h21b28.png',\n",
    " '2024_07_25_h24b02.png',\n",
    " '2024_07_31_h31b74.png',\n",
    " '2024_08_05_h32b11.png'] # these are the ones to remove from the segmentations and cell size calculations. "
   ]
  },
  {
   "cell_type": "code",
   "execution_count": 23,
   "id": "405f62fc-7ebc-466b-b152-0a7441c20a6a",
   "metadata": {},
   "outputs": [
    {
     "data": {
      "application/vnd.jupyter.widget-view+json": {
       "model_id": "e4f7ed5622904c69aefec5a522a14973",
       "version_major": 2,
       "version_minor": 0
      },
      "text/plain": [
       "Button(description='Previous!', style=ButtonStyle())"
      ]
     },
     "metadata": {},
     "output_type": "display_data"
    },
    {
     "data": {
      "application/vnd.jupyter.widget-view+json": {
       "model_id": "66d4403bec52423f9ade5bc4258cfa63",
       "version_major": 2,
       "version_minor": 0
      },
      "text/plain": [
       "Button(description='Next!', style=ButtonStyle())"
      ]
     },
     "metadata": {},
     "output_type": "display_data"
    },
    {
     "data": {
      "application/vnd.jupyter.widget-view+json": {
       "model_id": "bcb21aca752d4ecfb83b00feac540a8b",
       "version_major": 2,
       "version_minor": 0
      },
      "text/plain": [
       "Button(description='Add to list', style=ButtonStyle())"
      ]
     },
     "metadata": {},
     "output_type": "display_data"
    },
    {
     "data": {
      "application/vnd.jupyter.widget-view+json": {
       "model_id": "e0a292669cb84831af3250812e00fd48",
       "version_major": 2,
       "version_minor": 0
      },
      "text/plain": [
       "Button(description='Remove from list', style=ButtonStyle())"
      ]
     },
     "metadata": {},
     "output_type": "display_data"
    },
    {
     "data": {
      "application/vnd.jupyter.widget-view+json": {
       "model_id": "e0ac3ff64ca04ebf822c07fdfb72bc00",
       "version_major": 2,
       "version_minor": 0
      },
      "text/plain": [
       "interactive(children=(Text(value='../1_slides/1_slides/', description='folder'), Text(value='../1_slides/2_ind…"
      ]
     },
     "metadata": {},
     "output_type": "display_data"
    },
    {
     "data": {
      "application/vnd.jupyter.widget-view+json": {
       "model_id": "005e98755b5b44bca4bcb6d5f8a10df0",
       "version_major": 2,
       "version_minor": 0
      },
      "text/plain": [
       "Output()"
      ]
     },
     "metadata": {},
     "output_type": "display_data"
    }
   ],
   "source": [
    "# Used to go through sets of images and compare them, ie individual wings and the original slides to \n",
    "# do some checking that they matched.\n",
    "\n",
    "seen = []\n",
    "problem_wings = []\n",
    "FOLDER = '../1_slides/1_slides/'\n",
    "FOLDER2 = '../1_slides/2_individual_wings/'\n",
    "subset = []\n",
    "\n",
    "import matplotlib.pyplot as plt\n",
    "from ipywidgets import interact, widgets\n",
    "import numpy as np\n",
    "import os\n",
    "from PIL import Image, ImageFilter\n",
    "\n",
    "def imageEditor(folder, folder2, filename, blur, blurRadius): \n",
    "    # Opens a image in RGB mode\n",
    "    im = Image.open('{}/{}'.format(folder, filename))\n",
    "    im2 = Image.open('{}/{}'.format(folder2, filename.replace('.png','_left.png')))\n",
    "    im3 = Image.open('{}/{}'.format(folder2, filename.replace('.png','_right.png')))\n",
    "    \n",
    "    if(blur == True):\n",
    "        # blur only if checkbox checked\n",
    "        im = im.filter(ImageFilter.GaussianBlur(blurRadius))\n",
    "        \n",
    "    # show the image\n",
    "    plt.figure(figsize=(5,5))\n",
    "    plt.imshow(im)\n",
    "    plt.axis('off')\n",
    "    plt.title(filename)\n",
    "    plt.show()\n",
    "    try:\n",
    "        # show the image2\n",
    "    \tplt.figure(figsize=(5,5))\n",
    "    \tplt.imshow(im2)\n",
    "    \tplt.axis('off')\n",
    "    \tplt.title(filename)\n",
    "    \tprint(filename)\n",
    "    \tplt.show()\n",
    "    \t# show the image3\n",
    "    \tplt.figure(figsize=(5,5))\n",
    "    \tplt.imshow(im3)\n",
    "    \tplt.axis('off')\n",
    "    \tplt.title(filename)\n",
    "    \tprint(filename)\n",
    "    \tplt.show()\n",
    "    except:\n",
    "        pass\n",
    "\n",
    "# creating the widgets\n",
    "folderWidget = widgets.Text(FOLDER)\n",
    "fns = [x for x in sorted(os.listdir(folderWidget.value)) if x not in seen]\n",
    "if len(subset):\n",
    "    fns = [x for x in fns if x in subset]\n",
    "fileWidget = widgets.Dropdown(options = fns)\n",
    "# update function to update fileslist when folder name changes\n",
    "def updateFilesList(*args):\n",
    "\tfilesList = [file for file in os.listdir(folderWidget.value) if file.endswith(('.png', '.jpg', '.jpeg','.gif'))]\n",
    "\tfileWidget.options = filesList\n",
    "\tfileWidget.value = filesList[0]\n",
    "\n",
    "# observer folder widget and call updateFilesList whenever its value changes\n",
    "folderWidget.observe(updateFilesList, 'value')\n",
    "\n",
    "\n",
    "button_prev = widgets.Button(description=\"Previous!\")\n",
    "button_next = widgets.Button(description=\"Next!\")\n",
    "button_add = widgets.Button(description=\"Add to list\")\n",
    "button_remove = widgets.Button(description=\"Remove from list\")\n",
    "\n",
    "display(button_prev)\n",
    "display(button_next)\n",
    "display(button_add)\n",
    "display(button_remove)\n",
    "interact(\n",
    "\timageEditor,\n",
    "\tfilename = fileWidget,\n",
    "\tfolder = folderWidget,\n",
    "    folder2 = FOLDER2,\n",
    "\tblur = widgets.Checkbox(value = False),\n",
    "\tblurRadius = widgets.FloatSlider(min = 0, max = 5, description = \"Blur Radius\")\n",
    ")\n",
    "output = widgets.Output()\n",
    "display(output)\n",
    "\n",
    "def on_button_prev_clicked(a):\n",
    "    with output:\n",
    "        cur = fileWidget.get_state()['index']\n",
    "        n_fps = len(fileWidget.get_state()['_options_labels'])\n",
    "        if cur > 0:\n",
    "            fileWidget.set_state({'index':cur - 1})\n",
    "            print(f\"{cur} / {n_fps}\", end='\\r')\n",
    "\n",
    "def on_button_next_clicked(b):\n",
    "    global seen\n",
    "    with output:\n",
    "        fns = fileWidget.get_state()['_options_labels']\n",
    "        cur = fileWidget.get_state()['index']\n",
    "        fn = fns[cur]\n",
    "        n_fps = len(fileWidget.get_state()['_options_labels'])\n",
    "        fileWidget.set_state({'index':cur + 1})\n",
    "        print(f\"{cur} / {n_fps}                             \", end='\\r')\n",
    "\n",
    "    if fn not in seen:\n",
    "        seen += [fn]\n",
    "    \n",
    "\n",
    "def on_button_add_clicked(c):\n",
    "    global problem_wings\n",
    "    with output:\n",
    "        fns = fileWidget.get_state()['_options_labels']\n",
    "        cur = fileWidget.get_state()['index']\n",
    "        fn = fns[cur]\n",
    "        print(f\"Added {fn}\", end='\\r')\n",
    "\n",
    "    if fn not in problem_wings:\n",
    "        problem_wings += [fn]\n",
    "\n",
    "def on_button_remove_clicked(c):\n",
    "    global problem_wings\n",
    "    with output:\n",
    "        fns = fileWidget.get_state()['_options_labels']\n",
    "        cur = fileWidget.get_state()['index']\n",
    "        fn = fns[cur]\n",
    "        print(f\"Removed {fn}\", end='\\r')\n",
    "    \n",
    "    problem_wings.remove(fn)\n",
    "\n",
    "button_prev.on_click(on_button_prev_clicked)\n",
    "button_next.on_click(on_button_next_clicked)\n",
    "button_add.on_click(on_button_add_clicked)\n",
    "button_remove.on_click(on_button_remove_clicked)"
   ]
  },
  {
   "cell_type": "code",
   "execution_count": null,
   "id": "5b2180ea-b510-45dc-a788-91ec8c549e32",
   "metadata": {},
   "outputs": [],
   "source": [
    "\n",
    "\n",
    "\n",
    "\n",
    "\n",
    "\n",
    "\n",
    "\n",
    "\n",
    "\n",
    "\n",
    "\n",
    "\n",
    "\n",
    "\n",
    "\n",
    "\n",
    "\n",
    "\n",
    "\n",
    "\n",
    "\n"
   ]
  },
  {
   "cell_type": "code",
   "execution_count": 7,
   "id": "980a2b88-c351-4af9-8ead-712ab86b98fc",
   "metadata": {},
   "outputs": [],
   "source": []
  },
  {
   "cell_type": "code",
   "execution_count": null,
   "id": "654921d8-78ac-4cf9-bfca-8911c4a34d26",
   "metadata": {},
   "outputs": [],
   "source": []
  }
 ],
 "metadata": {
  "kernelspec": {
   "display_name": "Python 3 (ipykernel)",
   "language": "python",
   "name": "python3"
  },
  "language_info": {
   "codemirror_mode": {
    "name": "ipython",
    "version": 3
   },
   "file_extension": ".py",
   "mimetype": "text/x-python",
   "name": "python",
   "nbconvert_exporter": "python",
   "pygments_lexer": "ipython3",
   "version": "3.12.5"
  }
 },
 "nbformat": 4,
 "nbformat_minor": 5
}
