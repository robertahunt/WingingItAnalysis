{
 "cells": [
  {
   "cell_type": "code",
   "execution_count": 1,
   "id": "50d7835f-4335-45dc-b6cf-1e64db2a45f7",
   "metadata": {},
   "outputs": [
    {
     "data": {
      "text/plain": [
       "\"\\nThis notebook is used to interactively view a single image and get the location of clicks in that image\\nUsed to get points for SAM segmentations, and to manually find the blue 5mm line marker when automatic methods don't work\\n\""
      ]
     },
     "execution_count": 1,
     "metadata": {},
     "output_type": "execute_result"
    }
   ],
   "source": [
    "\"\"\"\n",
    "This notebook is used to interactively view a single image and get the location of clicks in that image\n",
    "Used to get points for SAM segmentations, and to manually find the blue 5mm line marker when automatic methods don't work\n",
    "\"\"\""
   ]
  },
  {
   "cell_type": "code",
   "execution_count": 8,
   "id": "17fe01f7-6e2c-4c5c-9947-0ee107ebd2e8",
   "metadata": {},
   "outputs": [],
   "source": [
    "from importlib import reload\n",
    "import matplotlib\n",
    "import cv2\n",
    "import matplotlib.pyplot as plt\n",
    "\n",
    "fp = '../WWBEE24_images/WingScans/Hive04_Sheet_01.tif'\n",
    "#import matplotlib\n",
    "reload(matplotlib)\n",
    "reload(plt)\n",
    "\n",
    "\n",
    "matplotlib.use('TkAgg')\n",
    "matplotlib.use('tkagg', force=True)\n",
    "import matplotlib.pyplot as plt\n",
    "import matplotlib.image as mpimg\n",
    "\n",
    "fig = plt.figure(figsize=(20,30))\n",
    "\n",
    "img = cv2.imread(fp)\n",
    "a = []\n",
    "def onclick(event):\n",
    "    global a\n",
    "    \n",
    "    ix, iy = event.xdata, event.ydata\n",
    "    a += [(ix, iy)]\n",
    "\n",
    "cid = fig.canvas.mpl_connect('button_press_event', onclick)\n",
    "\n",
    "imgplot = plt.imshow(img[:6000])\n",
    "plt.show()"
   ]
  },
  {
   "cell_type": "code",
   "execution_count": 9,
   "id": "ac0d6daa-2634-4d9d-815a-aa3ca5b6de50",
   "metadata": {},
   "outputs": [
    {
     "data": {
      "text/plain": [
       "array([[4140.98529469,  639.86657099],\n",
       "       [4133.26259122, 4006.96528001],\n",
       "       [8573.81708133, 4022.41068693],\n",
       "       [8566.09437787,  663.03468137],\n",
       "       [1221.80338641,  639.86657099],\n",
       "       [ 974.67687565, 3991.51987309]])"
      ]
     },
     "execution_count": 9,
     "metadata": {},
     "output_type": "execute_result"
    }
   ],
   "source": [
    "import numpy as np\n",
    "np.array(a)"
   ]
  },
  {
   "cell_type": "code",
   "execution_count": 10,
   "id": "dd6543b2-4fd1-47ad-89fa-8a0916400663",
   "metadata": {},
   "outputs": [
    {
     "data": {
      "text/plain": [
       "(3367, 3359, 3352)"
      ]
     },
     "execution_count": 10,
     "metadata": {},
     "output_type": "execute_result"
    }
   ],
   "source": [
    "4006 - 639, 4022 - 663, 3991-639"
   ]
  },
  {
   "cell_type": "code",
   "execution_count": null,
   "id": "96823539-afb3-467f-95d9-7f3c69dac4d7",
   "metadata": {},
   "outputs": [],
   "source": []
  }
 ],
 "metadata": {
  "kernelspec": {
   "display_name": "Python 3 (ipykernel)",
   "language": "python",
   "name": "python3"
  },
  "language_info": {
   "codemirror_mode": {
    "name": "ipython",
    "version": 3
   },
   "file_extension": ".py",
   "mimetype": "text/x-python",
   "name": "python",
   "nbconvert_exporter": "python",
   "pygments_lexer": "ipython3",
   "version": "3.12.5"
  }
 },
 "nbformat": 4,
 "nbformat_minor": 5
}
