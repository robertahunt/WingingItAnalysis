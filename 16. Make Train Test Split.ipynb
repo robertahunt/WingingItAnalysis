{
 "cells": [
  {
   "cell_type": "code",
   "execution_count": 75,
   "id": "dfa118c0-8ea3-48a7-b5a6-15a4c8e031cc",
   "metadata": {},
   "outputs": [],
   "source": [
    "import os\n",
    "import shutil\n",
    "import cv2\n",
    "import numpy as np\n",
    "import matplotlib.pyplot as plt\n",
    "from glob import glob\n",
    "from tqdm import tqdm"
   ]
  },
  {
   "cell_type": "code",
   "execution_count": 76,
   "id": "7ee600db-d2a7-4510-ba15-ea7528b17463",
   "metadata": {},
   "outputs": [],
   "source": [
    "fps = glob('../slides/2_individual_wings/*')\n",
    "np.random.seed(42)\n",
    "np.random.shuffle(fps)\n",
    "n = len(fps)\n",
    "\n",
    "train_fps = fps[:int(n*0.7)]\n",
    "val_fps = fps[int(n*0.7):int(n*0.85)]\n",
    "test_fps = fps[int(n*0.85):]"
   ]
  },
  {
   "cell_type": "code",
   "execution_count": 77,
   "id": "9741a178-4739-4305-b226-671e1440e927",
   "metadata": {},
   "outputs": [
    {
     "name": "stderr",
     "output_type": "stream",
     "text": [
      "100%|██████████████████████████████████████████████████████████████████████████████████████████████████████████████████████████████████████████████████████████████████| 2135/2135 [00:01<00:00, 1376.71it/s]\n",
      "100%|████████████████████████████████████████████████████████████████████████████████████████████████████████████████████████████████████████████████████████████████████| 457/457 [00:00<00:00, 1621.82it/s]\n",
      "100%|████████████████████████████████████████████████████████████████████████████████████████████████████████████████████████████████████████████████████████████████████| 458/458 [00:00<00:00, 1412.42it/s]\n"
     ]
    }
   ],
   "source": [
    "for fps, _set in zip([train_fps, val_fps, test_fps], ['train','val','test']):\n",
    "    for fp in tqdm(fps):\n",
    "        beeid = '_'.join(fp.split('/')[-1].split('_')[:-1])\n",
    "        wing_side = fp.split('_')[-1].split('.')[0]\n",
    "        new_fp = '../slides/5_train_test_split/' + _set + '/' + wing_side + '/' + beeid + '.png'\n",
    "        shutil.copyfile(fp, new_fp)\n"
   ]
  },
  {
   "cell_type": "code",
   "execution_count": null,
   "id": "5bf55278-002a-4bf8-baa4-ab366347b9e8",
   "metadata": {},
   "outputs": [],
   "source": []
  }
 ],
 "metadata": {
  "kernelspec": {
   "display_name": "Python 3 (ipykernel)",
   "language": "python",
   "name": "python3"
  },
  "language_info": {
   "codemirror_mode": {
    "name": "ipython",
    "version": 3
   },
   "file_extension": ".py",
   "mimetype": "text/x-python",
   "name": "python",
   "nbconvert_exporter": "python",
   "pygments_lexer": "ipython3",
   "version": "3.12.5"
  }
 },
 "nbformat": 4,
 "nbformat_minor": 5
}
