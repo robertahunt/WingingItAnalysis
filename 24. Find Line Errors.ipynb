{
 "cells": [
  {
   "cell_type": "code",
   "execution_count": 23,
   "id": "95232de1-c077-40ef-8d88-42b9f961af1d",
   "metadata": {},
   "outputs": [],
   "source": [
    "import os\n",
    "import cv2\n",
    "import json\n",
    "import numpy as np\n",
    "import pandas as pd\n",
    "import matplotlib.pyplot as plt\n",
    "\n",
    "from glob import glob\n",
    "from tqdm import tqdm\n",
    "from copy import deepcopy\n",
    "\n",
    "from scipy import ndimage\n",
    "from skimage.measure import label\n",
    "\n",
    "from numpy import linalg\n",
    "from scipy.sparse.linalg import eigs\n",
    "\n",
    "from skimage.exposure import match_histograms\n",
    "\n",
    "from utils import is_wing_facing_up, segment_contour"
   ]
  },
  {
   "cell_type": "code",
   "execution_count": 21,
   "id": "a7949d2b-9608-4495-8830-06a0342f3945",
   "metadata": {},
   "outputs": [],
   "source": [
    "# initialize with the ones we couldn't find any lines in\n",
    "seen = []\n",
    "problem_wings = ['2024_06_05_h01bee23.png',\n",
    " '2024_06_18_h11b13.png',\n",
    " '2024_06_05_h01bee19.png',\n",
    " '2024_06_18_h11b11.png',\n",
    " '2024_06_20_h14b41.png',\n",
    " '2024_06_20_h14b03.png',\n",
    " '2024_07_23_h21b28.png',\n",
    " '2024_07_05_h21b29.png',\n",
    " '2024_06_18_h02b12.png',\n",
    " '2024_06_20_h14b42.png',\n",
    " '2024_07_31_h31b74.png',\n",
    " '2024_06_18_h11b17.png',\n",
    " '2024_06_20_h14b02.png',\n",
    " '2024_06_18_h11b19.png',\n",
    " '2024_07_31_h31b59.png',\n",
    " '2024_06_19_h13b37.png',\n",
    " '2024_06_20_h14b22.png',\n",
    " '2024_06_24_h12b18.png',\n",
    " '2024_06_19_h01b21.png',\n",
    " '2024_06_05_h01bee27.png',\n",
    " '2024_06_20_h14b40.png',\n",
    " '2024_06_05_h01bee46.png',\n",
    " '2024_06_19_h01b23.png',\n",
    " '2024_06_05_h01bee16.png',\n",
    " '2024_07_22_h33b17.png',\n",
    " '2024_06_24_h12b31.png',\n",
    " '2024_06_18_h11b04.png',\n",
    " '2024_06_13_h05b02.png',\n",
    " '2024_06_27_h14b18.png',\n",
    " '2024_06_26_h04b41.png',\n",
    " '2024_06_11_h01b40.png',\n",
    " '2024_07_04_h14b40.png']"
   ]
  },
  {
   "cell_type": "code",
   "execution_count": 24,
   "id": "03d53904-b516-4f7f-8b0b-c6313d87cb96",
   "metadata": {},
   "outputs": [
    {
     "data": {
      "application/vnd.jupyter.widget-view+json": {
       "model_id": "8b4fd72f68f44727bac4edddd7be6948",
       "version_major": 2,
       "version_minor": 0
      },
      "text/plain": [
       "interactive(children=(Text(value='../2_live_bees/2_card_segs_and_orig', description='folder'), Dropdown(descri…"
      ]
     },
     "metadata": {},
     "output_type": "display_data"
    },
    {
     "data": {
      "application/vnd.jupyter.widget-view+json": {
       "model_id": "d9c0eb770f41458999572ef8acd5eece",
       "version_major": 2,
       "version_minor": 0
      },
      "text/plain": [
       "Button(description='Previous!', style=ButtonStyle())"
      ]
     },
     "metadata": {},
     "output_type": "display_data"
    },
    {
     "data": {
      "application/vnd.jupyter.widget-view+json": {
       "model_id": "252569a7ad0f449792c663297a2201c5",
       "version_major": 2,
       "version_minor": 0
      },
      "text/plain": [
       "Button(description='Next!', style=ButtonStyle())"
      ]
     },
     "metadata": {},
     "output_type": "display_data"
    },
    {
     "data": {
      "application/vnd.jupyter.widget-view+json": {
       "model_id": "de1e58e469624f658a13adc8c431acbe",
       "version_major": 2,
       "version_minor": 0
      },
      "text/plain": [
       "Button(description='Add to list', style=ButtonStyle())"
      ]
     },
     "metadata": {},
     "output_type": "display_data"
    },
    {
     "data": {
      "application/vnd.jupyter.widget-view+json": {
       "model_id": "59fe6927f4f340a29c466aca9e9528df",
       "version_major": 2,
       "version_minor": 0
      },
      "text/plain": [
       "Button(description='Remove from list', style=ButtonStyle())"
      ]
     },
     "metadata": {},
     "output_type": "display_data"
    },
    {
     "data": {
      "application/vnd.jupyter.widget-view+json": {
       "model_id": "b054bbbd8a274783b853899f0b68f43e",
       "version_major": 2,
       "version_minor": 0
      },
      "text/plain": [
       "Output()"
      ]
     },
     "metadata": {},
     "output_type": "display_data"
    }
   ],
   "source": [
    "seen = []\n",
    "problem_wings = []\n",
    "import matplotlib.pyplot as plt\n",
    "from ipywidgets import interact, widgets\n",
    "import numpy as np\n",
    "import os\n",
    "from PIL import Image, ImageFilter\n",
    "\n",
    "def imageEditor(folder, filename, blur, blurRadius): \n",
    "\t# Opens a image in RGB mode\n",
    "\tim = Image.open('{}/{}'.format(folder, filename))\n",
    "\n",
    "\tif(blur == True):\n",
    "\t\t# blur only if checkbox checked\n",
    "\t\tim = im.filter(ImageFilter.GaussianBlur(blurRadius))\n",
    "\t\t\n",
    "\t# show the image\n",
    "\tplt.figure(figsize=(8,8))\n",
    "\tplt.imshow(im)\n",
    "\tplt.axis('off')\n",
    "\tplt.title(filename)\n",
    "\tprint(filename)\n",
    "\tplt.show()\n",
    "\n",
    "# creating the widgets\n",
    "folderWidget = widgets.Text('../2_live_bees/2_card_segs_and_orig')\n",
    "fns = [x for x in sorted(os.listdir(folderWidget.value)) if x not in seen]\n",
    "fileWidget = widgets.Dropdown(options = fns)\n",
    "# update function to update fileslist when folder name changes\n",
    "def updateFilesList(*args):\n",
    "\tfilesList = [file for file in os.listdir(folderWidget.value) if file.endswith(('.png', '.jpg', '.jpeg','.gif'))]\n",
    "\tfileWidget.options = filesList\n",
    "\tfileWidget.value = filesList[0]\n",
    "\n",
    "# observer folder widget and call updateFilesList whenever its value changes\n",
    "folderWidget.observe(updateFilesList, 'value')\n",
    "\n",
    "interact(\n",
    "\timageEditor,\n",
    "\tfilename = fileWidget,\n",
    "\tfolder = folderWidget,\n",
    "\tblur = widgets.Checkbox(value = False),\n",
    "\tblurRadius = widgets.FloatSlider(min = 0, max = 5, description = \"Blur Radius\")\n",
    ")\n",
    "\n",
    "button_prev = widgets.Button(description=\"Previous!\")\n",
    "button_next = widgets.Button(description=\"Next!\")\n",
    "button_add = widgets.Button(description=\"Add to list\")\n",
    "button_remove = widgets.Button(description=\"Remove from list\")\n",
    "\n",
    "output = widgets.Output()\n",
    "\n",
    "display(button_prev)\n",
    "display(button_next)\n",
    "display(button_add)\n",
    "display(button_remove, output)\n",
    "\n",
    "def on_button_prev_clicked(a):\n",
    "    with output:\n",
    "        cur = fileWidget.get_state()['index']\n",
    "        n_fps = len(fileWidget.get_state()['_options_labels'])\n",
    "        if cur > 0:\n",
    "            fileWidget.set_state({'index':cur - 1})\n",
    "            print(f\"{cur} / {n_fps}\", end='\\r')\n",
    "\n",
    "def on_button_next_clicked(b):\n",
    "    global seen\n",
    "    with output:\n",
    "        fns = fileWidget.get_state()['_options_labels']\n",
    "        cur = fileWidget.get_state()['index']\n",
    "        fn = fns[cur]\n",
    "        n_fps = len(fileWidget.get_state()['_options_labels'])\n",
    "        fileWidget.set_state({'index':cur + 1})\n",
    "        print(f\"{cur} / {n_fps}\", end='\\r')\n",
    "\n",
    "    if fn not in seen:\n",
    "        seen += [fn]\n",
    "    \n",
    "\n",
    "def on_button_add_clicked(c):\n",
    "    global problem_wings\n",
    "    with output:\n",
    "        fns = fileWidget.get_state()['_options_labels']\n",
    "        cur = fileWidget.get_state()['index']\n",
    "        fn = fns[cur]\n",
    "        print(f\"Added {fn}\", end='\\r')\n",
    "\n",
    "    if fn not in problem_wings:\n",
    "        problem_wings += [fn]\n",
    "\n",
    "def on_button_remove_clicked(c):\n",
    "    global problem_wings\n",
    "    with output:\n",
    "        fns = fileWidget.get_state()['_options_labels']\n",
    "        cur = fileWidget.get_state()['index']\n",
    "        fn = fns[cur]\n",
    "        print(f\"Removed {fn}\", end='\\r')\n",
    "    \n",
    "    problem_wings.remove(fn)\n",
    "\n",
    "button_prev.on_click(on_button_prev_clicked)\n",
    "button_next.on_click(on_button_next_clicked)\n",
    "button_add.on_click(on_button_add_clicked)\n",
    "button_remove.on_click(on_button_remove_clicked)"
   ]
  },
  {
   "cell_type": "code",
   "execution_count": 19,
   "id": "3c1e2f0c-36f3-47f6-bd59-9e365584c995",
   "metadata": {},
   "outputs": [],
   "source": [
    "problem_wings = []\n",
    "seen = []"
   ]
  },
  {
   "cell_type": "code",
   "execution_count": null,
   "id": "657a9ffb-0121-47e9-91a9-665dc6afaa0d",
   "metadata": {},
   "outputs": [],
   "source": []
  }
 ],
 "metadata": {
  "kernelspec": {
   "display_name": "Python 3 (ipykernel)",
   "language": "python",
   "name": "python3"
  },
  "language_info": {
   "codemirror_mode": {
    "name": "ipython",
    "version": 3
   },
   "file_extension": ".py",
   "mimetype": "text/x-python",
   "name": "python",
   "nbconvert_exporter": "python",
   "pygments_lexer": "ipython3",
   "version": "3.12.5"
  }
 },
 "nbformat": 4,
 "nbformat_minor": 5
}
